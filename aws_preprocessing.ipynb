{
 "cells": [
  {
   "cell_type": "markdown",
   "metadata": {},
   "source": [
    "Install necessary libraries not on AWS-sagemaker instance."
   ]
  },
  {
   "cell_type": "code",
   "execution_count": null,
   "metadata": {},
   "outputs": [],
   "source": [
    "!pip install spacy\n",
    "!pip install gensim\n",
    "!python -m spacy download en_core_web_lg"
   ]
  },
  {
   "cell_type": "code",
   "execution_count": 1,
   "metadata": {},
   "outputs": [],
   "source": [
    "import boto3\n",
    "from sagemaker import get_execution_role\n",
    "import sagemaker.amazon.common as smac\n",
    "import pandas as pd\n",
    "import spacy\n",
    "from gensim.models.phrases import Phrases, Phraser\n",
    "from spacy.lang.en.stop_words import STOP_WORDS\n",
    "import en_core_web_lg\n",
    "import re\n",
    "import string\n",
    "from tqdm import tqdm\n",
    "import time\n",
    "import multiprocessing"
   ]
  },
  {
   "cell_type": "markdown",
   "metadata": {},
   "source": [
    "Utlizing 72 core CPU computational optimized instance for data preprocessing job\n",
    "Normally python program only use one core to process it's kernel"
   ]
  },
  {
   "cell_type": "code",
   "execution_count": 2,
   "metadata": {},
   "outputs": [
    {
     "data": {
      "text/plain": [
       "72"
      ]
     },
     "execution_count": 2,
     "metadata": {},
     "output_type": "execute_result"
    }
   ],
   "source": [
    "multiprocessing.cpu_count()"
   ]
  },
  {
   "cell_type": "code",
   "execution_count": 3,
   "metadata": {},
   "outputs": [],
   "source": [
    "role = get_execution_role()\n",
    "bucket = 'medium-text'\n",
    "folder = 'data'\n",
    "filename = 'Medium_aggregatedData.csv'\n",
    "data_location = 's3://{}/{}/{}'.format(bucket,folder,filename)"
   ]
  },
  {
   "cell_type": "code",
   "execution_count": 4,
   "metadata": {},
   "outputs": [],
   "source": [
    "df = pd.read_csv(data_location,low_memory=False)"
   ]
  },
  {
   "cell_type": "code",
   "execution_count": 5,
   "metadata": {},
   "outputs": [],
   "source": [
    "df = df[df['language']=='en']\n",
    "df = df.drop_duplicates(['postId'])"
   ]
  },
  {
   "cell_type": "code",
   "execution_count": 6,
   "metadata": {},
   "outputs": [],
   "source": [
    "nlp=spacy.load('en_core_web_lg')"
   ]
  },
  {
   "cell_type": "code",
   "execution_count": 7,
   "metadata": {},
   "outputs": [],
   "source": [
    "table = str.maketrans(dict.fromkeys(string.punctuation))"
   ]
  },
  {
   "cell_type": "code",
   "execution_count": 8,
   "metadata": {},
   "outputs": [],
   "source": [
    "def preprocess_text(s):\n",
    "    s = s.translate(table)\n",
    "    s=s.replace('\\n',' ')\n",
    "    text = nlp(s)\n",
    "    text = [i.text.lower() for i in text]\n",
    "    return text"
   ]
  },
  {
   "cell_type": "code",
   "execution_count": 10,
   "metadata": {},
   "outputs": [],
   "source": [
    "pool = multiprocessing.Pool(68)"
   ]
  },
  {
   "cell_type": "code",
   "execution_count": 11,
   "metadata": {},
   "outputs": [
    {
     "name": "stdout",
     "output_type": "stream",
     "text": [
      "Processing time 213.28333353996277 seconds\n"
     ]
    }
   ],
   "source": [
    "if __name__ == '__main__':\n",
    "    starttime = time.time()\n",
    "    doc = pool.map(preprocess_text, [i for i in df['text']])\n",
    "    pool.close()\n",
    "    print('Processing time {} seconds'.format(time.time() - starttime))"
   ]
  },
  {
   "cell_type": "code",
   "execution_count": 12,
   "metadata": {},
   "outputs": [
    {
     "data": {
      "text/plain": [
       "66380"
      ]
     },
     "execution_count": 12,
     "metadata": {},
     "output_type": "execute_result"
    }
   ],
   "source": [
    "#Tokenizing and clean 66380 articles in 213s by processing data using 68 cpu core at the same time\n",
    "len(df)"
   ]
  },
  {
   "cell_type": "markdown",
   "metadata": {},
   "source": [
    "Extract meaningful phrases from a given corpus using NPMI"
   ]
  },
  {
   "cell_type": "code",
   "execution_count": 13,
   "metadata": {},
   "outputs": [],
   "source": [
    "phrases = Phrases(doc, min_count=5, threshold=5,progress_per=1000)"
   ]
  },
  {
   "cell_type": "code",
   "execution_count": 14,
   "metadata": {},
   "outputs": [
    {
     "name": "stderr",
     "output_type": "stream",
     "text": [
      "100%|██████████| 66380/66380 [00:02<00:00, 26079.96it/s]\n"
     ]
    }
   ],
   "source": [
    "corpus = []\n",
    "for i in tqdm(doc):\n",
    "    text = phrases(i)\n",
    "    text = ' '.join(text)\n",
    "    corpus.append(text)"
   ]
  },
  {
   "cell_type": "code",
   "execution_count": 15,
   "metadata": {},
   "outputs": [],
   "source": [
    "import io\n",
    "pkl_buffer = io.BytesIO()\n",
    "txt_buffer = io.StringIO()"
   ]
  },
  {
   "cell_type": "code",
   "execution_count": 16,
   "metadata": {},
   "outputs": [],
   "source": [
    "for item in corpus:\n",
    "    txt_buffer.write(\"{}\\n\".format(item))"
   ]
  },
  {
   "cell_type": "code",
   "execution_count": 17,
   "metadata": {},
   "outputs": [],
   "source": [
    "phrases.save(pkl_buffer)"
   ]
  },
  {
   "cell_type": "code",
   "execution_count": 18,
   "metadata": {},
   "outputs": [
    {
     "data": {
      "text/plain": [
       "{'ResponseMetadata': {'RequestId': 'A867E2BD8FCA0BF3',\n",
       "  'HostId': '+qZs8YvBFB2vir6POB9TSZST3GFCa4NbUu4TIGT3XdhFCP/GTeXqZQFiX2O/aFeyvh18Y7H77P0=',\n",
       "  'HTTPStatusCode': 200,\n",
       "  'HTTPHeaders': {'x-amz-id-2': '+qZs8YvBFB2vir6POB9TSZST3GFCa4NbUu4TIGT3XdhFCP/GTeXqZQFiX2O/aFeyvh18Y7H77P0=',\n",
       "   'x-amz-request-id': 'A867E2BD8FCA0BF3',\n",
       "   'date': 'Wed, 20 Nov 2019 21:46:16 GMT',\n",
       "   'etag': '\"7a0150c1df8fce305866485a1b413005\"',\n",
       "   'content-length': '0',\n",
       "   'server': 'AmazonS3'},\n",
       "  'RetryAttempts': 1},\n",
       " 'ETag': '\"7a0150c1df8fce305866485a1b413005\"'}"
      ]
     },
     "execution_count": 18,
     "metadata": {},
     "output_type": "execute_result"
    }
   ],
   "source": [
    "s3_resource = boto3.resource('s3')\n",
    "s3_resource.Object(bucket,'utility/phraser.pkl').put(Body=pkl_buffer.getvalue())"
   ]
  },
  {
   "cell_type": "code",
   "execution_count": 19,
   "metadata": {},
   "outputs": [
    {
     "data": {
      "text/plain": [
       "{'ResponseMetadata': {'RequestId': '8C912408D254D657',\n",
       "  'HostId': 'FH+C/yuJNDHs4yD+ydKi+E3CNePfYMDNoyBhrzM+IC8kLvmqCUSjPuxPG7kacOdbTcLpclAhSOs=',\n",
       "  'HTTPStatusCode': 200,\n",
       "  'HTTPHeaders': {'x-amz-id-2': 'FH+C/yuJNDHs4yD+ydKi+E3CNePfYMDNoyBhrzM+IC8kLvmqCUSjPuxPG7kacOdbTcLpclAhSOs=',\n",
       "   'x-amz-request-id': '8C912408D254D657',\n",
       "   'date': 'Wed, 20 Nov 2019 21:46:25 GMT',\n",
       "   'etag': '\"9b113e082d9786392a058b4e74a96e3d\"',\n",
       "   'content-length': '0',\n",
       "   'server': 'AmazonS3'},\n",
       "  'RetryAttempts': 0},\n",
       " 'ETag': '\"9b113e082d9786392a058b4e74a96e3d\"'}"
      ]
     },
     "execution_count": 19,
     "metadata": {},
     "output_type": "execute_result"
    }
   ],
   "source": [
    "s3_resource.Object(bucket,'data/medium_corpus.txt').put(Body=txt_buffer.getvalue())"
   ]
  },
  {
   "cell_type": "code",
   "execution_count": null,
   "metadata": {},
   "outputs": [],
   "source": []
  }
 ],
 "metadata": {
  "kernelspec": {
   "display_name": "Python 3",
   "language": "python",
   "name": "python3"
  },
  "language_info": {
   "codemirror_mode": {
    "name": "ipython",
    "version": 3
   },
   "file_extension": ".py",
   "mimetype": "text/x-python",
   "name": "python",
   "nbconvert_exporter": "python",
   "pygments_lexer": "ipython3",
   "version": "3.7.3"
  }
 },
 "nbformat": 4,
 "nbformat_minor": 2
}
